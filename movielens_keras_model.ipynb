{
 "cells": [
  {
   "cell_type": "code",
   "execution_count": 36,
   "metadata": {
    "collapsed": true
   },
   "outputs": [],
   "source": [
    "import numpy as np\n",
    "import os\n",
    "os.environ[\"CUDA_VISIBLE_DEVICES\"]=\"3\"\n",
    "import tensorflow as tf\n",
    "from keras import backend as K\n",
    "from keras.layers import Embedding, Reshape, merge, Dropout, Dense,concatenate,Input,add,dot,Merge,Flatten\n",
    "from keras.models import Sequential,Model\n",
    "import pandas as pd\n",
    "from keras.optimizers import Adam\n",
    "from keras.callbacks import Callback, EarlyStopping, ModelCheckpoint"
   ]
  },
  {
   "cell_type": "code",
   "execution_count": 47,
   "metadata": {
    "collapsed": true
   },
   "outputs": [],
   "source": [
    "def create_model(n_age,n_gender, n_items, k_factors):\n",
    "    x1=Input((1,),name='age')\n",
    "    x2=Input((1,),name='gender')\n",
    "    x3=Input((1,),name='movie')\n",
    "    x1_1 = Embedding(output_dim=k_factors, input_dim=n_age+1, input_length=1,name='age_embed')(x1)\n",
    "    x2_1 = Embedding(output_dim=k_factors, input_dim=n_gender+1, input_length=1,name='gender_embed')(x2)\n",
    "    x3_1 = Embedding(output_dim=k_factors, input_dim=n_items+1, input_length=1,name='movie_embed')(x3)\n",
    "    \n",
    "    age_vecs = Flatten()(x1_1)\n",
    "    gen_vecs = Flatten()(x2_1)\n",
    "    item_vecs = Flatten()(x3_1)\n",
    "    y1=dot([age_vecs,item_vecs],axes=1,name='age_out')\n",
    "    y2=dot([gen_vecs,item_vecs],axes=1,name='gender_out')\n",
    "    model = Model(inputs=[x1,x2,x3], outputs=[y1,y2])\n",
    "    model.compile(loss='mse', optimizer=Adam(lr=1e-5))\n",
    "    return model"
   ]
  },
  {
   "cell_type": "code",
   "execution_count": 38,
   "metadata": {
    "collapsed": true
   },
   "outputs": [],
   "source": [
    "K_FACTORS = 120\n",
    "RNG_SEED = 1446557\n",
    "MODEL_WEIGHTS_FILE = 'movielens_model_adam.h5'"
   ]
  },
  {
   "cell_type": "code",
   "execution_count": 4,
   "metadata": {
    "collapsed": true
   },
   "outputs": [],
   "source": [
    "training=pd.read_csv(\"/home/dhara/movielens/ml-1m/balance_movielens.csv\",engine='python')"
   ]
  },
  {
   "cell_type": "code",
   "execution_count": 7,
   "metadata": {},
   "outputs": [
    {
     "name": "stdout",
     "output_type": "stream",
     "text": [
      "597824 ratings loaded. 61 1 176271\n"
     ]
    }
   ],
   "source": [
    "max_age = training['age'].drop_duplicates().max()\n",
    "max_gender_enc = training['gender_enc'].drop_duplicates().max()\n",
    "max_movieid = training['movieId'].drop_duplicates().max()\n",
    "print len(training), 'ratings loaded.',max_age,max_gender_enc,max_movieid"
   ]
  },
  {
   "cell_type": "code",
   "execution_count": 8,
   "metadata": {},
   "outputs": [
    {
     "name": "stdout",
     "output_type": "stream",
     "text": [
      "Users: [4386 4226 3937 ..., 1398 4627 3630] , shape = (597824,)\n",
      "Movies: [123287    545    159 ...,   4898   1393   2002] , shape = (597824,)\n",
      "Ratings: [ 5.   1.   1.  ...,  2.5  4.   2. ] , shape = (597824,)\n"
     ]
    }
   ],
   "source": [
    "shuffled_ratings = training.sample(frac=1., random_state=RNG_SEED)\n",
    "Users = shuffled_ratings['user_emb_id'].values\n",
    "print 'Users:', Users, ', shape =', Users.shape\n",
    "Movies = shuffled_ratings['movie_emb_id'].values\n",
    "print 'Movies:', Movies, ', shape =', Movies.shape\n",
    "Ratings = shuffled_ratings['rating'].values\n",
    "print 'Ratings:', Ratings, ', shape =', Ratings.shape"
   ]
  },
  {
   "cell_type": "code",
   "execution_count": 9,
   "metadata": {},
   "outputs": [
    {
     "name": "stdout",
     "output_type": "stream",
     "text": [
      "61 1 176271\n"
     ]
    }
   ],
   "source": [
    "print max_age,max_gender_enc,max_movieid"
   ]
  },
  {
   "cell_type": "code",
   "execution_count": 48,
   "metadata": {},
   "outputs": [
    {
     "name": "stdout",
     "output_type": "stream",
     "text": [
      "__________________________________________________________________________________________________\n",
      "Layer (type)                    Output Shape         Param #     Connected to                     \n",
      "==================================================================================================\n",
      "age (InputLayer)                (None, 1)            0                                            \n",
      "__________________________________________________________________________________________________\n",
      "movie (InputLayer)              (None, 1)            0                                            \n",
      "__________________________________________________________________________________________________\n",
      "gender (InputLayer)             (None, 1)            0                                            \n",
      "__________________________________________________________________________________________________\n",
      "age_embed (Embedding)           (None, 1, 120)       7440        age[0][0]                        \n",
      "__________________________________________________________________________________________________\n",
      "movie_embed (Embedding)         (None, 1, 120)       21152640    movie[0][0]                      \n",
      "__________________________________________________________________________________________________\n",
      "gender_embed (Embedding)        (None, 1, 120)       240         gender[0][0]                     \n",
      "__________________________________________________________________________________________________\n",
      "flatten_13 (Flatten)            (None, 120)          0           age_embed[0][0]                  \n",
      "__________________________________________________________________________________________________\n",
      "flatten_15 (Flatten)            (None, 120)          0           movie_embed[0][0]                \n",
      "__________________________________________________________________________________________________\n",
      "flatten_14 (Flatten)            (None, 120)          0           gender_embed[0][0]               \n",
      "__________________________________________________________________________________________________\n",
      "age_out (Dot)                   (None, 1)            0           flatten_13[0][0]                 \n",
      "                                                                 flatten_15[0][0]                 \n",
      "__________________________________________________________________________________________________\n",
      "gender_out (Dot)                (None, 1)            0           flatten_14[0][0]                 \n",
      "                                                                 flatten_15[0][0]                 \n",
      "==================================================================================================\n",
      "Total params: 21,160,320\n",
      "Trainable params: 21,160,320\n",
      "Non-trainable params: 0\n",
      "__________________________________________________________________________________________________\n",
      "None\n"
     ]
    }
   ],
   "source": [
    "model_new=create_model(n_age=max_age,n_gender=max_gender_enc,n_items=max_movieid,k_factors=K_FACTORS)\n",
    "print model_new.summary()"
   ]
  },
  {
   "cell_type": "code",
   "execution_count": 31,
   "metadata": {},
   "outputs": [
    {
     "name": "stdout",
     "output_type": "stream",
     "text": [
      "Ages: [22 26 29 ..., 18 56 23] , shape = (597824,)\n",
      "Gender: [1 0 0 ..., 0 1 0] , shape = (597824,)\n",
      "Movies: [123287    545    159 ...,   4898   1393   2002] , shape = (597824,)\n",
      "Ratings: [ 5.   1.   1.  ...,  2.5  4.   2. ] , shape = (597824,)\n"
     ]
    }
   ],
   "source": [
    "Age = shuffled_ratings['age_emb_id'].values\n",
    "print 'Ages:', Age, ', shape =', Age.shape\n",
    "Gender = shuffled_ratings['gender_enc'].values\n",
    "print 'Gender:', Gender, ', shape =', Gender.shape\n",
    "Movies = shuffled_ratings['movie_emb_id'].values\n",
    "print 'Movies:', Movies, ', shape =', Movies.shape\n",
    "Ratings = shuffled_ratings['rating'].values\n",
    "print 'Ratings:', Ratings, ', shape =', Ratings.shape"
   ]
  },
  {
   "cell_type": "code",
   "execution_count": null,
   "metadata": {},
   "outputs": [],
   "source": [
    "callbacks = [EarlyStopping('val_age_out_loss', patience=5), \n",
    "             ModelCheckpoint(MODEL_WEIGHTS_FILE, save_best_only=True)]\n",
    "history = model_new.fit([Age,Gender, Movies], [Ratings,Ratings], epochs=30, validation_split=.1,batch_size=20000, verbose=2, callbacks=callbacks)"
   ]
  },
  {
   "cell_type": "code",
   "execution_count": null,
   "metadata": {},
   "outputs": [],
   "source": [
    "MODEL_WEIGHTS_FILE=\"movielens_model_adam_2.h5\"\n",
    "callbacks = [EarlyStopping('val_age_out_loss', patience=5), \n",
    "             ModelCheckpoint(MODEL_WEIGHTS_FILE, save_best_only=True)]\n",
    "history = model_new.fit([Age,Gender, Movies], [Ratings,Ratings], epochs=50, validation_split=.1,batch_size=20000, verbose=2, callbacks=callbacks)"
   ]
  },
  {
   "cell_type": "code",
   "execution_count": null,
   "metadata": {},
   "outputs": [],
   "source": [
    "MODEL_WEIGHTS_FILE=\"movielens_model_adam_3.h5\"\n",
    "callbacks = [EarlyStopping('val_age_out_loss', patience=5), \n",
    "              ModelCheckpoint(MODEL_WEIGHTS_FILE, save_best_only=True)]\n",
    "# callbacks = [ModelCheckpoint(MODEL_WEIGHTS_FILE, save_best_only=True)]\n",
    "history = model_new.fit([Age,Gender, Movies], [Ratings,Ratings], epochs=200, validation_split=.1,batch_size=20000, verbose=2, callbacks=callbacks)"
   ]
  },
  {
   "cell_type": "code",
   "execution_count": 50,
   "metadata": {},
   "outputs": [
    {
     "name": "stdout",
     "output_type": "stream",
     "text": [
      "Train on 538041 samples, validate on 59783 samples\n",
      "Epoch 1/200\n",
      " - 1s - loss: 1.6956 - age_out_loss: 0.8460 - gender_out_loss: 0.8495 - val_loss: 1.9955 - val_age_out_loss: 0.9974 - val_gender_out_loss: 0.9981\n",
      "Epoch 2/200\n",
      " - 1s - loss: 1.6955 - age_out_loss: 0.8460 - gender_out_loss: 0.8495 - val_loss: 1.9955 - val_age_out_loss: 0.9974 - val_gender_out_loss: 0.9981\n",
      "Epoch 3/200\n",
      " - 1s - loss: 1.6954 - age_out_loss: 0.8459 - gender_out_loss: 0.8495 - val_loss: 1.9955 - val_age_out_loss: 0.9974 - val_gender_out_loss: 0.9981\n",
      "Epoch 4/200\n",
      " - 1s - loss: 1.6954 - age_out_loss: 0.8459 - gender_out_loss: 0.8495 - val_loss: 1.9955 - val_age_out_loss: 0.9974 - val_gender_out_loss: 0.9981\n",
      "Epoch 5/200\n",
      " - 1s - loss: 1.6954 - age_out_loss: 0.8459 - gender_out_loss: 0.8494 - val_loss: 1.9955 - val_age_out_loss: 0.9974 - val_gender_out_loss: 0.9981\n",
      "Epoch 6/200\n",
      " - 1s - loss: 1.6953 - age_out_loss: 0.8459 - gender_out_loss: 0.8494 - val_loss: 1.9955 - val_age_out_loss: 0.9974 - val_gender_out_loss: 0.9981\n",
      "Epoch 7/200\n",
      " - 1s - loss: 1.6953 - age_out_loss: 0.8459 - gender_out_loss: 0.8494 - val_loss: 1.9955 - val_age_out_loss: 0.9974 - val_gender_out_loss: 0.9981\n"
     ]
    }
   ],
   "source": [
    "MODEL_WEIGHTS_FILE=\"movielens_model_adam_5.h5\"\n",
    "callbacks = [EarlyStopping('val_age_out_loss', patience=5), \n",
    "              ModelCheckpoint(MODEL_WEIGHTS_FILE, save_best_only=True)]\n",
    "history = model_new.fit([Age,Gender, Movies], [Ratings,Ratings], epochs=200, validation_split=.1,batch_size=20000, verbose=2, callbacks=callbacks)"
   ]
  },
  {
   "cell_type": "code",
   "execution_count": 161,
   "metadata": {
    "collapsed": true
   },
   "outputs": [],
   "source": [
    "def rate( model,age,gender, item_id):\n",
    "        return model.predict([np.array([age]),np.array([gender]), np.array([item_id])])"
   ]
  },
  {
   "cell_type": "code",
   "execution_count": 49,
   "metadata": {
    "collapsed": true
   },
   "outputs": [],
   "source": [
    "model_new.load_weights(\"movielens_model_adam_4.h5\")"
   ]
  },
  {
   "cell_type": "code",
   "execution_count": 162,
   "metadata": {
    "collapsed": true
   },
   "outputs": [],
   "source": [
    "output=rate(model_new,0,0,4223)"
   ]
  },
  {
   "cell_type": "code",
   "execution_count": 163,
   "metadata": {},
   "outputs": [
    {
     "name": "stdout",
     "output_type": "stream",
     "text": [
      "2.54702\n"
     ]
    }
   ],
   "source": [
    "print output[1][0][0]"
   ]
  },
  {
   "cell_type": "code",
   "execution_count": 55,
   "metadata": {
    "collapsed": true
   },
   "outputs": [],
   "source": [
    "users=df = pd.read_csv('/home/dhara/movielens/ml-1m/users.dat', sep='::', header=None, skiprows=0,engine='python', encoding='latin-1',\n",
    "                    names=['userid', 'gender', 'age', 'occupation', 'zipcode'])"
   ]
  },
  {
   "cell_type": "code",
   "execution_count": 57,
   "metadata": {},
   "outputs": [
    {
     "data": {
      "text/html": [
       "<div>\n",
       "<style>\n",
       "    .dataframe thead tr:only-child th {\n",
       "        text-align: right;\n",
       "    }\n",
       "\n",
       "    .dataframe thead th {\n",
       "        text-align: left;\n",
       "    }\n",
       "\n",
       "    .dataframe tbody tr th {\n",
       "        vertical-align: top;\n",
       "    }\n",
       "</style>\n",
       "<table border=\"1\" class=\"dataframe\">\n",
       "  <thead>\n",
       "    <tr style=\"text-align: right;\">\n",
       "      <th></th>\n",
       "      <th>userid</th>\n",
       "      <th>gender</th>\n",
       "      <th>age</th>\n",
       "      <th>occupation</th>\n",
       "      <th>zipcode</th>\n",
       "    </tr>\n",
       "  </thead>\n",
       "  <tbody>\n",
       "    <tr>\n",
       "      <th>2999</th>\n",
       "      <td>3000</td>\n",
       "      <td>M</td>\n",
       "      <td>25</td>\n",
       "      <td>4</td>\n",
       "      <td>55408</td>\n",
       "    </tr>\n",
       "  </tbody>\n",
       "</table>\n",
       "</div>"
      ],
      "text/plain": [
       "      userid gender  age  occupation zipcode\n",
       "2999    3000      M   25           4   55408"
      ]
     },
     "execution_count": 57,
     "metadata": {},
     "output_type": "execute_result"
    }
   ],
   "source": [
    "users[users['userid'] == 3000]"
   ]
  },
  {
   "cell_type": "code",
   "execution_count": 167,
   "metadata": {
    "collapsed": true
   },
   "outputs": [],
   "source": [
    "user_ratings = training[(training['age'] == 4)][['userid', 'movieId', 'rating','age','gender']]"
   ]
  },
  {
   "cell_type": "code",
   "execution_count": 169,
   "metadata": {
    "collapsed": true
   },
   "outputs": [],
   "source": [
    "user_ratings['prediction'] = user_ratings.apply(lambda x: rate(model_new,x['age']-1,0, x['movieId']), axis=1)"
   ]
  },
  {
   "cell_type": "code",
   "execution_count": 171,
   "metadata": {
    "collapsed": true
   },
   "outputs": [],
   "source": [
    "def get_scalar(x):\n",
    "    return x[0][0][0]"
   ]
  },
  {
   "cell_type": "code",
   "execution_count": 173,
   "metadata": {
    "collapsed": true
   },
   "outputs": [],
   "source": [
    "def get_scalar_gender(x):\n",
    "    return x[1][0][0]"
   ]
  },
  {
   "cell_type": "code",
   "execution_count": 172,
   "metadata": {
    "collapsed": true
   },
   "outputs": [],
   "source": [
    "user_ratings['prediction_age']=user_ratings.apply(lambda x:get_scalar(x['prediction']),axis=1)"
   ]
  },
  {
   "cell_type": "code",
   "execution_count": 174,
   "metadata": {
    "collapsed": true
   },
   "outputs": [],
   "source": [
    "user_ratings['prediction_gender']=user_ratings.apply(lambda x:get_scalar_gender(x['prediction']),axis=1)"
   ]
  },
  {
   "cell_type": "code",
   "execution_count": 67,
   "metadata": {
    "collapsed": true
   },
   "outputs": [],
   "source": [
    "movies=pd.read_csv(\"/home/dhara/movielens/ml-latest/movies.csv\")"
   ]
  },
  {
   "cell_type": "code",
   "execution_count": 176,
   "metadata": {
    "collapsed": true
   },
   "outputs": [],
   "source": [
    "user_rating_top=user_ratings.merge(movies, on='movieId', \n",
    "                                                how='inner', \n",
    "                                                suffixes=['_u', '_m']).sort_values(by='rating', ascending=False)"
   ]
  },
  {
   "cell_type": "code",
   "execution_count": 177,
   "metadata": {},
   "outputs": [
    {
     "data": {
      "text/html": [
       "<div>\n",
       "<style>\n",
       "    .dataframe thead tr:only-child th {\n",
       "        text-align: right;\n",
       "    }\n",
       "\n",
       "    .dataframe thead th {\n",
       "        text-align: left;\n",
       "    }\n",
       "\n",
       "    .dataframe tbody tr th {\n",
       "        vertical-align: top;\n",
       "    }\n",
       "</style>\n",
       "<table border=\"1\" class=\"dataframe\">\n",
       "  <thead>\n",
       "    <tr style=\"text-align: right;\">\n",
       "      <th></th>\n",
       "      <th>userid</th>\n",
       "      <th>movieId</th>\n",
       "      <th>rating</th>\n",
       "      <th>age</th>\n",
       "      <th>gender</th>\n",
       "      <th>prediction</th>\n",
       "      <th>prediction_age</th>\n",
       "      <th>prediction_gender</th>\n",
       "      <th>title</th>\n",
       "      <th>genres</th>\n",
       "    </tr>\n",
       "  </thead>\n",
       "  <tbody>\n",
       "    <tr>\n",
       "      <th>332</th>\n",
       "      <td>3087</td>\n",
       "      <td>92259</td>\n",
       "      <td>5.0</td>\n",
       "      <td>4</td>\n",
       "      <td>F</td>\n",
       "      <td>[[[-0.0291892]], [[-0.0324015]]]</td>\n",
       "      <td>-0.029189</td>\n",
       "      <td>-0.032401</td>\n",
       "      <td>Intouchables (2011)</td>\n",
       "      <td>Comedy|Drama</td>\n",
       "    </tr>\n",
       "    <tr>\n",
       "      <th>129</th>\n",
       "      <td>2133</td>\n",
       "      <td>356</td>\n",
       "      <td>5.0</td>\n",
       "      <td>4</td>\n",
       "      <td>F</td>\n",
       "      <td>[[[3.64925]], [[3.64552]]]</td>\n",
       "      <td>3.649249</td>\n",
       "      <td>3.645521</td>\n",
       "      <td>Forrest Gump (1994)</td>\n",
       "      <td>Comedy|Drama|Romance|War</td>\n",
       "    </tr>\n",
       "    <tr>\n",
       "      <th>131</th>\n",
       "      <td>1948</td>\n",
       "      <td>356</td>\n",
       "      <td>5.0</td>\n",
       "      <td>4</td>\n",
       "      <td>M</td>\n",
       "      <td>[[[3.64925]], [[3.64552]]]</td>\n",
       "      <td>3.649249</td>\n",
       "      <td>3.645521</td>\n",
       "      <td>Forrest Gump (1994)</td>\n",
       "      <td>Comedy|Drama|Romance|War</td>\n",
       "    </tr>\n",
       "    <tr>\n",
       "      <th>970</th>\n",
       "      <td>2853</td>\n",
       "      <td>340</td>\n",
       "      <td>5.0</td>\n",
       "      <td>4</td>\n",
       "      <td>M</td>\n",
       "      <td>[[[3.01725]], [[3.00979]]]</td>\n",
       "      <td>3.017253</td>\n",
       "      <td>3.009794</td>\n",
       "      <td>War, The (1994)</td>\n",
       "      <td>Adventure|Drama|War</td>\n",
       "    </tr>\n",
       "    <tr>\n",
       "      <th>973</th>\n",
       "      <td>5953</td>\n",
       "      <td>4499</td>\n",
       "      <td>5.0</td>\n",
       "      <td>4</td>\n",
       "      <td>M</td>\n",
       "      <td>[[[3.87309]], [[3.84984]]]</td>\n",
       "      <td>3.873091</td>\n",
       "      <td>3.849835</td>\n",
       "      <td>Dirty Rotten Scoundrels (1988)</td>\n",
       "      <td>Comedy</td>\n",
       "    </tr>\n",
       "    <tr>\n",
       "      <th>1481</th>\n",
       "      <td>4294</td>\n",
       "      <td>1569</td>\n",
       "      <td>5.0</td>\n",
       "      <td>4</td>\n",
       "      <td>M</td>\n",
       "      <td>[[[2.8912]], [[2.88032]]]</td>\n",
       "      <td>2.891201</td>\n",
       "      <td>2.880322</td>\n",
       "      <td>My Best Friend's Wedding (1997)</td>\n",
       "      <td>Comedy|Romance</td>\n",
       "    </tr>\n",
       "    <tr>\n",
       "      <th>977</th>\n",
       "      <td>1926</td>\n",
       "      <td>56174</td>\n",
       "      <td>5.0</td>\n",
       "      <td>4</td>\n",
       "      <td>F</td>\n",
       "      <td>[[[0.00869921]], [[-0.00798006]]]</td>\n",
       "      <td>0.008699</td>\n",
       "      <td>-0.007980</td>\n",
       "      <td>I Am Legend (2007)</td>\n",
       "      <td>Action|Horror|Sci-Fi|Thriller|IMAX</td>\n",
       "    </tr>\n",
       "    <tr>\n",
       "      <th>1478</th>\n",
       "      <td>5953</td>\n",
       "      <td>5902</td>\n",
       "      <td>5.0</td>\n",
       "      <td>4</td>\n",
       "      <td>M</td>\n",
       "      <td>[[[3.84291]], [[3.84085]]]</td>\n",
       "      <td>3.842914</td>\n",
       "      <td>3.840845</td>\n",
       "      <td>Adaptation (2002)</td>\n",
       "      <td>Comedy|Drama|Romance</td>\n",
       "    </tr>\n",
       "    <tr>\n",
       "      <th>983</th>\n",
       "      <td>2853</td>\n",
       "      <td>4</td>\n",
       "      <td>5.0</td>\n",
       "      <td>4</td>\n",
       "      <td>M</td>\n",
       "      <td>[[[3.05206]], [[3.03969]]]</td>\n",
       "      <td>3.052064</td>\n",
       "      <td>3.039692</td>\n",
       "      <td>Waiting to Exhale (1995)</td>\n",
       "      <td>Comedy|Drama|Romance</td>\n",
       "    </tr>\n",
       "    <tr>\n",
       "      <th>470</th>\n",
       "      <td>5255</td>\n",
       "      <td>1073</td>\n",
       "      <td>5.0</td>\n",
       "      <td>4</td>\n",
       "      <td>M</td>\n",
       "      <td>[[[0.0848734]], [[0.101768]]]</td>\n",
       "      <td>0.084873</td>\n",
       "      <td>0.101768</td>\n",
       "      <td>Willy Wonka &amp; the Chocolate Factory (1971)</td>\n",
       "      <td>Children|Comedy|Fantasy|Musical</td>\n",
       "    </tr>\n",
       "  </tbody>\n",
       "</table>\n",
       "</div>"
      ],
      "text/plain": [
       "      userid  movieId  rating  age gender                         prediction  \\\n",
       "332     3087    92259     5.0    4      F   [[[-0.0291892]], [[-0.0324015]]]   \n",
       "129     2133      356     5.0    4      F         [[[3.64925]], [[3.64552]]]   \n",
       "131     1948      356     5.0    4      M         [[[3.64925]], [[3.64552]]]   \n",
       "970     2853      340     5.0    4      M         [[[3.01725]], [[3.00979]]]   \n",
       "973     5953     4499     5.0    4      M         [[[3.87309]], [[3.84984]]]   \n",
       "1481    4294     1569     5.0    4      M          [[[2.8912]], [[2.88032]]]   \n",
       "977     1926    56174     5.0    4      F  [[[0.00869921]], [[-0.00798006]]]   \n",
       "1478    5953     5902     5.0    4      M         [[[3.84291]], [[3.84085]]]   \n",
       "983     2853        4     5.0    4      M         [[[3.05206]], [[3.03969]]]   \n",
       "470     5255     1073     5.0    4      M      [[[0.0848734]], [[0.101768]]]   \n",
       "\n",
       "      prediction_age  prediction_gender  \\\n",
       "332        -0.029189          -0.032401   \n",
       "129         3.649249           3.645521   \n",
       "131         3.649249           3.645521   \n",
       "970         3.017253           3.009794   \n",
       "973         3.873091           3.849835   \n",
       "1481        2.891201           2.880322   \n",
       "977         0.008699          -0.007980   \n",
       "1478        3.842914           3.840845   \n",
       "983         3.052064           3.039692   \n",
       "470         0.084873           0.101768   \n",
       "\n",
       "                                           title  \\\n",
       "332                          Intouchables (2011)   \n",
       "129                          Forrest Gump (1994)   \n",
       "131                          Forrest Gump (1994)   \n",
       "970                              War, The (1994)   \n",
       "973               Dirty Rotten Scoundrels (1988)   \n",
       "1481             My Best Friend's Wedding (1997)   \n",
       "977                           I Am Legend (2007)   \n",
       "1478                           Adaptation (2002)   \n",
       "983                     Waiting to Exhale (1995)   \n",
       "470   Willy Wonka & the Chocolate Factory (1971)   \n",
       "\n",
       "                                  genres  \n",
       "332                         Comedy|Drama  \n",
       "129             Comedy|Drama|Romance|War  \n",
       "131             Comedy|Drama|Romance|War  \n",
       "970                  Adventure|Drama|War  \n",
       "973                               Comedy  \n",
       "1481                      Comedy|Romance  \n",
       "977   Action|Horror|Sci-Fi|Thriller|IMAX  \n",
       "1478                Comedy|Drama|Romance  \n",
       "983                 Comedy|Drama|Romance  \n",
       "470      Children|Comedy|Fantasy|Musical  "
      ]
     },
     "execution_count": 177,
     "metadata": {},
     "output_type": "execute_result"
    }
   ],
   "source": [
    "user_rating_top.head(10)"
   ]
  },
  {
   "cell_type": "code",
   "execution_count": null,
   "metadata": {},
   "outputs": [],
   "source": [
    "recommendations=training[(training['movieId'].isin(user_rating_top['movieId']) == False)][['movieId']].drop_duplicates()\n",
    "recommendations['prediction'] = recommendations.apply(lambda x: rate(model_new,0,1,x['movieId']), axis=1)\n"
   ]
  },
  {
   "cell_type": "code",
   "execution_count": 179,
   "metadata": {
    "collapsed": true
   },
   "outputs": [],
   "source": [
    "recommendations_new=recommendations.merge(training,on='movieId',how='inner')\n",
    "recommendations_new=recommendations_new[(recommendations_new['age']>1)&(recommendations_new['age']<18)]"
   ]
  },
  {
   "cell_type": "code",
   "execution_count": 180,
   "metadata": {
    "collapsed": true
   },
   "outputs": [],
   "source": [
    "recommendations_new=recommendations_new.drop_duplicates(subset=['movieId'], keep=False)"
   ]
  },
  {
   "cell_type": "code",
   "execution_count": 182,
   "metadata": {
    "collapsed": true
   },
   "outputs": [],
   "source": [
    "recommendations_new['prediction_age']=recommendations_new.apply(lambda x:get_scalar(x['prediction']),axis=1)"
   ]
  },
  {
   "cell_type": "code",
   "execution_count": 183,
   "metadata": {
    "collapsed": true
   },
   "outputs": [],
   "source": [
    "recommendations_new['prediction_gender']=recommendations_new.apply(lambda x:get_scalar_gender(x['prediction']),axis=1)"
   ]
  },
  {
   "cell_type": "code",
   "execution_count": 184,
   "metadata": {
    "collapsed": true
   },
   "outputs": [],
   "source": [
    "output_new=recommendations_new.merge(movies,on='movieId',how='inner',suffixes=['_u', '_m']).sort_values(by='prediction_age', \n",
    "                         ascending=False).head(10)\n"
   ]
  },
  {
   "cell_type": "code",
   "execution_count": 185,
   "metadata": {},
   "outputs": [
    {
     "data": {
      "text/html": [
       "<div>\n",
       "<style>\n",
       "    .dataframe thead tr:only-child th {\n",
       "        text-align: right;\n",
       "    }\n",
       "\n",
       "    .dataframe thead th {\n",
       "        text-align: left;\n",
       "    }\n",
       "\n",
       "    .dataframe tbody tr th {\n",
       "        vertical-align: top;\n",
       "    }\n",
       "</style>\n",
       "<table border=\"1\" class=\"dataframe\">\n",
       "  <thead>\n",
       "    <tr style=\"text-align: right;\">\n",
       "      <th></th>\n",
       "      <th>movieId</th>\n",
       "      <th>prediction</th>\n",
       "      <th>userid</th>\n",
       "      <th>rating</th>\n",
       "      <th>timestamp</th>\n",
       "      <th>user_emb_id</th>\n",
       "      <th>movie_emb_id</th>\n",
       "      <th>gender</th>\n",
       "      <th>age</th>\n",
       "      <th>occupation</th>\n",
       "      <th>zipcode</th>\n",
       "      <th>age_desc</th>\n",
       "      <th>occ_desc</th>\n",
       "      <th>gender_enc</th>\n",
       "      <th>age_emb_id</th>\n",
       "      <th>prediction_age</th>\n",
       "      <th>prediction_gender</th>\n",
       "      <th>title</th>\n",
       "      <th>genres</th>\n",
       "    </tr>\n",
       "  </thead>\n",
       "  <tbody>\n",
       "    <tr>\n",
       "      <th>219</th>\n",
       "      <td>3807</td>\n",
       "      <td>[[[4.93749]], [[4.98937]]]</td>\n",
       "      <td>4294</td>\n",
       "      <td>4.0</td>\n",
       "      <td>989501369</td>\n",
       "      <td>4293</td>\n",
       "      <td>3806</td>\n",
       "      <td>M</td>\n",
       "      <td>2</td>\n",
       "      <td>10</td>\n",
       "      <td>75633</td>\n",
       "      <td>Under 18</td>\n",
       "      <td>K-12 student</td>\n",
       "      <td>0</td>\n",
       "      <td>1</td>\n",
       "      <td>4.937489</td>\n",
       "      <td>4.989367</td>\n",
       "      <td>Sinbad and the Eye of the Tiger (1977)</td>\n",
       "      <td>Adventure|Fantasy</td>\n",
       "    </tr>\n",
       "    <tr>\n",
       "      <th>841</th>\n",
       "      <td>27368</td>\n",
       "      <td>[[[4.70033]], [[4.75029]]]</td>\n",
       "      <td>468</td>\n",
       "      <td>3.5</td>\n",
       "      <td>1250792643</td>\n",
       "      <td>467</td>\n",
       "      <td>27367</td>\n",
       "      <td>F</td>\n",
       "      <td>7</td>\n",
       "      <td>10</td>\n",
       "      <td>55082</td>\n",
       "      <td>Under 18</td>\n",
       "      <td>K-12 student</td>\n",
       "      <td>1</td>\n",
       "      <td>6</td>\n",
       "      <td>4.700326</td>\n",
       "      <td>4.750285</td>\n",
       "      <td>Asterix &amp; Obelix: Mission Cleopatra (Astérix &amp;...</td>\n",
       "      <td>Adventure|Comedy|Fantasy</td>\n",
       "    </tr>\n",
       "    <tr>\n",
       "      <th>210</th>\n",
       "      <td>4383</td>\n",
       "      <td>[[[4.58429]], [[4.60608]]]</td>\n",
       "      <td>3537</td>\n",
       "      <td>4.5</td>\n",
       "      <td>1231336587</td>\n",
       "      <td>3536</td>\n",
       "      <td>4382</td>\n",
       "      <td>M</td>\n",
       "      <td>2</td>\n",
       "      <td>10</td>\n",
       "      <td>97402</td>\n",
       "      <td>Under 18</td>\n",
       "      <td>K-12 student</td>\n",
       "      <td>0</td>\n",
       "      <td>1</td>\n",
       "      <td>4.584289</td>\n",
       "      <td>4.606077</td>\n",
       "      <td>Crimson Rivers, The (Rivières pourpres, Les) (...</td>\n",
       "      <td>Crime|Drama|Mystery|Thriller</td>\n",
       "    </tr>\n",
       "    <tr>\n",
       "      <th>1931</th>\n",
       "      <td>7095</td>\n",
       "      <td>[[[4.56822]], [[4.62915]]]</td>\n",
       "      <td>3604</td>\n",
       "      <td>1.5</td>\n",
       "      <td>1075942035</td>\n",
       "      <td>3603</td>\n",
       "      <td>7094</td>\n",
       "      <td>F</td>\n",
       "      <td>14</td>\n",
       "      <td>10</td>\n",
       "      <td>02879</td>\n",
       "      <td>Under 18</td>\n",
       "      <td>K-12 student</td>\n",
       "      <td>1</td>\n",
       "      <td>13</td>\n",
       "      <td>4.568215</td>\n",
       "      <td>4.629147</td>\n",
       "      <td>Looking for Mr. Goodbar (1977)</td>\n",
       "      <td>Drama</td>\n",
       "    </tr>\n",
       "    <tr>\n",
       "      <th>1869</th>\n",
       "      <td>2936</td>\n",
       "      <td>[[[4.46585]], [[4.48463]]]</td>\n",
       "      <td>3604</td>\n",
       "      <td>4.5</td>\n",
       "      <td>1185985127</td>\n",
       "      <td>3603</td>\n",
       "      <td>2935</td>\n",
       "      <td>F</td>\n",
       "      <td>14</td>\n",
       "      <td>10</td>\n",
       "      <td>02879</td>\n",
       "      <td>Under 18</td>\n",
       "      <td>K-12 student</td>\n",
       "      <td>1</td>\n",
       "      <td>13</td>\n",
       "      <td>4.465850</td>\n",
       "      <td>4.484628</td>\n",
       "      <td>Sullivan's Travels (1941)</td>\n",
       "      <td>Adventure|Comedy|Romance</td>\n",
       "    </tr>\n",
       "    <tr>\n",
       "      <th>1037</th>\n",
       "      <td>27833</td>\n",
       "      <td>[[[4.45969]], [[4.47077]]]</td>\n",
       "      <td>3780</td>\n",
       "      <td>0.5</td>\n",
       "      <td>1129494696</td>\n",
       "      <td>3779</td>\n",
       "      <td>27832</td>\n",
       "      <td>M</td>\n",
       "      <td>9</td>\n",
       "      <td>0</td>\n",
       "      <td>46979</td>\n",
       "      <td>Under 18</td>\n",
       "      <td>other or not specified</td>\n",
       "      <td>0</td>\n",
       "      <td>8</td>\n",
       "      <td>4.459690</td>\n",
       "      <td>4.470770</td>\n",
       "      <td>Silver City (2004)</td>\n",
       "      <td>Comedy|Drama|Mystery|Thriller</td>\n",
       "    </tr>\n",
       "    <tr>\n",
       "      <th>872</th>\n",
       "      <td>6126</td>\n",
       "      <td>[[[4.45092]], [[4.48002]]]</td>\n",
       "      <td>5662</td>\n",
       "      <td>4.0</td>\n",
       "      <td>1232310502</td>\n",
       "      <td>5661</td>\n",
       "      <td>6125</td>\n",
       "      <td>M</td>\n",
       "      <td>7</td>\n",
       "      <td>10</td>\n",
       "      <td>07960</td>\n",
       "      <td>Under 18</td>\n",
       "      <td>K-12 student</td>\n",
       "      <td>0</td>\n",
       "      <td>6</td>\n",
       "      <td>4.450917</td>\n",
       "      <td>4.480024</td>\n",
       "      <td>Veronika Voss (Sehnsucht der Veronika Voss, Di...</td>\n",
       "      <td>Drama</td>\n",
       "    </tr>\n",
       "    <tr>\n",
       "      <th>700</th>\n",
       "      <td>6525</td>\n",
       "      <td>[[[4.40742]], [[4.43849]]]</td>\n",
       "      <td>3780</td>\n",
       "      <td>3.5</td>\n",
       "      <td>1109257948</td>\n",
       "      <td>3779</td>\n",
       "      <td>6524</td>\n",
       "      <td>M</td>\n",
       "      <td>6</td>\n",
       "      <td>0</td>\n",
       "      <td>46979</td>\n",
       "      <td>Under 18</td>\n",
       "      <td>other or not specified</td>\n",
       "      <td>0</td>\n",
       "      <td>5</td>\n",
       "      <td>4.407422</td>\n",
       "      <td>4.438488</td>\n",
       "      <td>Nuts (1987)</td>\n",
       "      <td>Drama</td>\n",
       "    </tr>\n",
       "    <tr>\n",
       "      <th>2167</th>\n",
       "      <td>7938</td>\n",
       "      <td>[[[4.3895]], [[4.39616]]]</td>\n",
       "      <td>1673</td>\n",
       "      <td>4.0</td>\n",
       "      <td>1272356277</td>\n",
       "      <td>1672</td>\n",
       "      <td>7937</td>\n",
       "      <td>M</td>\n",
       "      <td>16</td>\n",
       "      <td>10</td>\n",
       "      <td>98043-3621</td>\n",
       "      <td>Under 18</td>\n",
       "      <td>K-12 student</td>\n",
       "      <td>0</td>\n",
       "      <td>15</td>\n",
       "      <td>4.389503</td>\n",
       "      <td>4.396155</td>\n",
       "      <td>Winter Light (Nattvardsgästerna) (1963)</td>\n",
       "      <td>Drama</td>\n",
       "    </tr>\n",
       "    <tr>\n",
       "      <th>1563</th>\n",
       "      <td>7937</td>\n",
       "      <td>[[[4.3546]], [[4.3961]]]</td>\n",
       "      <td>5662</td>\n",
       "      <td>4.0</td>\n",
       "      <td>1154285246</td>\n",
       "      <td>5661</td>\n",
       "      <td>7936</td>\n",
       "      <td>M</td>\n",
       "      <td>12</td>\n",
       "      <td>10</td>\n",
       "      <td>07960</td>\n",
       "      <td>Under 18</td>\n",
       "      <td>K-12 student</td>\n",
       "      <td>0</td>\n",
       "      <td>11</td>\n",
       "      <td>4.354600</td>\n",
       "      <td>4.396101</td>\n",
       "      <td>Silence, The (Tystnaden) (1963)</td>\n",
       "      <td>Drama</td>\n",
       "    </tr>\n",
       "  </tbody>\n",
       "</table>\n",
       "</div>"
      ],
      "text/plain": [
       "      movieId                  prediction  userid  rating   timestamp  \\\n",
       "219      3807  [[[4.93749]], [[4.98937]]]    4294     4.0   989501369   \n",
       "841     27368  [[[4.70033]], [[4.75029]]]     468     3.5  1250792643   \n",
       "210      4383  [[[4.58429]], [[4.60608]]]    3537     4.5  1231336587   \n",
       "1931     7095  [[[4.56822]], [[4.62915]]]    3604     1.5  1075942035   \n",
       "1869     2936  [[[4.46585]], [[4.48463]]]    3604     4.5  1185985127   \n",
       "1037    27833  [[[4.45969]], [[4.47077]]]    3780     0.5  1129494696   \n",
       "872      6126  [[[4.45092]], [[4.48002]]]    5662     4.0  1232310502   \n",
       "700      6525  [[[4.40742]], [[4.43849]]]    3780     3.5  1109257948   \n",
       "2167     7938   [[[4.3895]], [[4.39616]]]    1673     4.0  1272356277   \n",
       "1563     7937    [[[4.3546]], [[4.3961]]]    5662     4.0  1154285246   \n",
       "\n",
       "      user_emb_id  movie_emb_id gender  age  occupation     zipcode  age_desc  \\\n",
       "219          4293          3806      M    2          10       75633  Under 18   \n",
       "841           467         27367      F    7          10       55082  Under 18   \n",
       "210          3536          4382      M    2          10       97402  Under 18   \n",
       "1931         3603          7094      F   14          10       02879  Under 18   \n",
       "1869         3603          2935      F   14          10       02879  Under 18   \n",
       "1037         3779         27832      M    9           0       46979  Under 18   \n",
       "872          5661          6125      M    7          10       07960  Under 18   \n",
       "700          3779          6524      M    6           0       46979  Under 18   \n",
       "2167         1672          7937      M   16          10  98043-3621  Under 18   \n",
       "1563         5661          7936      M   12          10       07960  Under 18   \n",
       "\n",
       "                    occ_desc  gender_enc  age_emb_id  prediction_age  \\\n",
       "219             K-12 student           0           1        4.937489   \n",
       "841             K-12 student           1           6        4.700326   \n",
       "210             K-12 student           0           1        4.584289   \n",
       "1931            K-12 student           1          13        4.568215   \n",
       "1869            K-12 student           1          13        4.465850   \n",
       "1037  other or not specified           0           8        4.459690   \n",
       "872             K-12 student           0           6        4.450917   \n",
       "700   other or not specified           0           5        4.407422   \n",
       "2167            K-12 student           0          15        4.389503   \n",
       "1563            K-12 student           0          11        4.354600   \n",
       "\n",
       "      prediction_gender                                              title  \\\n",
       "219            4.989367             Sinbad and the Eye of the Tiger (1977)   \n",
       "841            4.750285  Asterix & Obelix: Mission Cleopatra (Astérix &...   \n",
       "210            4.606077  Crimson Rivers, The (Rivières pourpres, Les) (...   \n",
       "1931           4.629147                     Looking for Mr. Goodbar (1977)   \n",
       "1869           4.484628                          Sullivan's Travels (1941)   \n",
       "1037           4.470770                                 Silver City (2004)   \n",
       "872            4.480024  Veronika Voss (Sehnsucht der Veronika Voss, Di...   \n",
       "700            4.438488                                        Nuts (1987)   \n",
       "2167           4.396155            Winter Light (Nattvardsgästerna) (1963)   \n",
       "1563           4.396101                    Silence, The (Tystnaden) (1963)   \n",
       "\n",
       "                             genres  \n",
       "219               Adventure|Fantasy  \n",
       "841        Adventure|Comedy|Fantasy  \n",
       "210    Crime|Drama|Mystery|Thriller  \n",
       "1931                          Drama  \n",
       "1869       Adventure|Comedy|Romance  \n",
       "1037  Comedy|Drama|Mystery|Thriller  \n",
       "872                           Drama  \n",
       "700                           Drama  \n",
       "2167                          Drama  \n",
       "1563                          Drama  "
      ]
     },
     "execution_count": 185,
     "metadata": {},
     "output_type": "execute_result"
    }
   ],
   "source": [
    "output_new"
   ]
  },
  {
   "cell_type": "code",
   "execution_count": null,
   "metadata": {
    "collapsed": true
   },
   "outputs": [],
   "source": []
  }
 ],
 "metadata": {
  "kernelspec": {
   "display_name": "Python 2",
   "language": "python",
   "name": "python2"
  },
  "language_info": {
   "codemirror_mode": {
    "name": "ipython",
    "version": 2
   },
   "file_extension": ".py",
   "mimetype": "text/x-python",
   "name": "python",
   "nbconvert_exporter": "python",
   "pygments_lexer": "ipython2",
   "version": "2.7.14"
  }
 },
 "nbformat": 4,
 "nbformat_minor": 2
}
